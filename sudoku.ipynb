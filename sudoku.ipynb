{
 "cells": [
  {
   "cell_type": "code",
   "execution_count": 117,
   "metadata": {
    "scrolled": true
   },
   "outputs": [],
   "source": [
    "import cv2\n",
    "import sys\n",
    "from time import time\n",
    "import matplotlib.pyplot as plt\n",
    "import SudokuExtractor\n",
    "import keras\n",
    "from SudokuExtractor import extract_sudoku\n",
    "from NumberExtractor import extract_number"
   ]
  },
  {
   "cell_type": "code",
   "execution_count": 118,
   "metadata": {},
   "outputs": [],
   "source": [
    "def output(a):\n",
    "    sys.stdout.write(str(a))"
   ]
  },
  {
   "cell_type": "code",
   "execution_count": 119,
   "metadata": {},
   "outputs": [],
   "source": [
    "def show_image(image):\n",
    "    image = cv2.cvtColor(image, cv2.COLOR_BGR2RGB)\n",
    "    plt.imshow(image)\n",
    "    plt.show()"
   ]
  },
  {
   "cell_type": "code",
   "execution_count": 120,
   "metadata": {},
   "outputs": [],
   "source": [
    "def main(image_path):\n",
    "    image = extract_sudoku(image_path)\n",
    "    #show_image(image)\n",
    "    return extract_number(image).tolist()\n",
    "    #print('Sudoku:')\n",
    "    #print(grid.tolist())\n",
    "   # display_sudoku(grid.tolist())\n",
    "    "
   ]
  },
  {
   "cell_type": "code",
   "execution_count": 121,
   "metadata": {},
   "outputs": [
    {
     "name": "stdout",
     "output_type": "stream",
     "text": [
      "[[0, 0, 3, 0, 9, 2, 0, 0, 0], [2, 0, 0, 0, 3, 0, 0, 3, 0], [2, 7, 0, 0, 0, 0, 0, 0, 0], [0, 7, 0, 3, 0, 0, 0, 0, 8], [0, 5, 0, 1, 5, 7, 0, 3, 0], [3, 0, 0, 0, 0, 8, 0, 8, 0], [0, 0, 0, 0, 0, 0, 0, 5, 3], [0, 8, 0, 0, 8, 0, 0, 0, 9], [0, 0, 0, 6, 2, 0, 7, 0, 0]]\n"
     ]
    }
   ],
   "source": [
    "if __name__ == '__main__':\n",
    "    image_path = 'images/image5.jpg'\n",
    "    print(main(image_path))\n",
    "    "
   ]
  },
  {
   "cell_type": "code",
   "execution_count": null,
   "metadata": {},
   "outputs": [],
   "source": []
  },
  {
   "cell_type": "code",
   "execution_count": null,
   "metadata": {},
   "outputs": [],
   "source": []
  }
 ],
 "metadata": {
  "kernelspec": {
   "display_name": "Python 3",
   "language": "python",
   "name": "python3"
  },
  "language_info": {
   "codemirror_mode": {
    "name": "ipython",
    "version": 3
   },
   "file_extension": ".py",
   "mimetype": "text/x-python",
   "name": "python",
   "nbconvert_exporter": "python",
   "pygments_lexer": "ipython3",
   "version": "3.7.6"
  }
 },
 "nbformat": 4,
 "nbformat_minor": 4
}
